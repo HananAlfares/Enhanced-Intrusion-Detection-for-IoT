{
  "cells": [
    {
      "cell_type": "markdown",
      "metadata": {
        "id": "view-in-github",
        "colab_type": "text"
      },
      "source": [
        "<a href=\"https://colab.research.google.com/github/HananAlfares/Enhanced-Intrusion-Detection-for-IoT/blob/main/Enhanced_Intrusion_Detection_for_IoT_Neural_Network_based_Imbalanced_Data_Handling_and_Feature_Reduction_ipynb.ipynb\" target=\"_parent\"><img src=\"https://colab.research.google.com/assets/colab-badge.svg\" alt=\"Open In Colab\"/></a>"
      ]
    },
    {
      "cell_type": "code",
      "execution_count": null,
      "metadata": {
        "colab": {
          "base_uri": "https://localhost:8080/"
        },
        "id": "QWv2Qh1q2x0U",
        "outputId": "40aaf5cc-4607-4053-d980-8fc13d8fd741"
      },
      "outputs": [
        {
          "output_type": "stream",
          "name": "stdout",
          "text": [
            "Mounted at /content/drive/\n"
          ]
        }
      ],
      "source": [
        "import os\n",
        "from google.colab import drive\n",
        "drive.mount(\"/content/drive/\")\n",
        "# Set working directory (consider running this again after mounting)\n",
        "cwd = \"/content/drive/My Drive/Intrusion analysis and incident management/Bot_IoT\"\n",
        "os.chdir(cwd)"
      ]
    },
    {
      "cell_type": "code",
      "execution_count": null,
      "metadata": {
        "id": "GDA0Gptu52w8"
      },
      "outputs": [],
      "source": [
        "import pandas as pd\n",
        "import numpy as np"
      ]
    },
    {
      "cell_type": "code",
      "execution_count": null,
      "metadata": {
        "id": "JgaZUwy853Ek"
      },
      "outputs": [],
      "source": [
        "data=pd.read_csv(\"Bot_IoT_preprocessed.csv\")"
      ]
    },
    {
      "cell_type": "code",
      "execution_count": null,
      "metadata": {
        "id": "HdQxwvAQ53UT"
      },
      "outputs": [],
      "source": [
        "#multi-label classification\n",
        "#each sample can belong to multiple classes simultaneously"
      ]
    },
    {
      "cell_type": "code",
      "execution_count": null,
      "metadata": {
        "id": "r-w981tXE5bO"
      },
      "outputs": [],
      "source": [
        "#A multi-output neural network is a type of neural network that can produce multiple outputs for a single input.\n",
        "#In this specific case, the neural network has multiple output nodes, each corresponding to a different label or category."
      ]
    },
    {
      "cell_type": "code",
      "execution_count": null,
      "metadata": {
        "colab": {
          "base_uri": "https://localhost:8080/",
          "height": 256
        },
        "id": "ZIO6UdLkly_d",
        "outputId": "a2ed15c1-6dff-465d-f188-a555e0857ade"
      },
      "outputs": [
        {
          "output_type": "execute_result",
          "data": {
            "text/plain": [
              "   pkSeqID         stime  flgs  proto                saddr    sport  \\\n",
              "0        1  1.526344e+09     0      0 -5129129635686255861      NaN   \n",
              "1        2  1.526344e+09     0      5 -6185723984693521753    139.0   \n",
              "2        3  1.526344e+09     0      6 -1869885841190239628  51838.0   \n",
              "3        4  1.526344e+09     0      0 -2415109182496690282      NaN   \n",
              "4        5  1.526344e+09     0      6 -5248272586555793995  58999.0   \n",
              "\n",
              "                 daddr    dport  pkts  bytes  ...     srate     drate  attack  \\\n",
              "0 -8013749477516327964      NaN     4    240  ...  0.000836  0.000836       0   \n",
              "1 -2415109182496690282  36390.0    10    680  ...  0.002751  0.002751       0   \n",
              "2  7736881533495019271    123.0     2    180  ...  0.000000  0.000000       0   \n",
              "3 -6185723984693521753      NaN    10    510  ...  0.002751  0.002751       0   \n",
              "4 -5129129635686255861     53.0     4    630  ...  0.001755  0.001755       0   \n",
              "\n",
              "   combined_DoS_HTTP  combined_DoS_TCP  combined_Normal_Normal  \\\n",
              "0                0.0               0.0                     1.0   \n",
              "1                0.0               0.0                     1.0   \n",
              "2                0.0               0.0                     1.0   \n",
              "3                0.0               0.0                     1.0   \n",
              "4                0.0               0.0                     1.0   \n",
              "\n",
              "   combined_Reconnaissance_OS_Fingerprint  \\\n",
              "0                                     0.0   \n",
              "1                                     0.0   \n",
              "2                                     0.0   \n",
              "3                                     0.0   \n",
              "4                                     0.0   \n",
              "\n",
              "   combined_Reconnaissance_Service_Scan  combined_Theft_Data_Exfiltration  \\\n",
              "0                                   0.0                               0.0   \n",
              "1                                   0.0                               0.0   \n",
              "2                                   0.0                               0.0   \n",
              "3                                   0.0                               0.0   \n",
              "4                                   0.0                               0.0   \n",
              "\n",
              "   combined_Theft_Keylogging  \n",
              "0                        0.0  \n",
              "1                        0.0  \n",
              "2                        0.0  \n",
              "3                        0.0  \n",
              "4                        0.0  \n",
              "\n",
              "[5 rows x 40 columns]"
            ],
            "text/html": [
              "\n",
              "  <div id=\"df-0320ccfb-c53d-40dc-b4e4-42140ea02b15\" class=\"colab-df-container\">\n",
              "    <div>\n",
              "<style scoped>\n",
              "    .dataframe tbody tr th:only-of-type {\n",
              "        vertical-align: middle;\n",
              "    }\n",
              "\n",
              "    .dataframe tbody tr th {\n",
              "        vertical-align: top;\n",
              "    }\n",
              "\n",
              "    .dataframe thead th {\n",
              "        text-align: right;\n",
              "    }\n",
              "</style>\n",
              "<table border=\"1\" class=\"dataframe\">\n",
              "  <thead>\n",
              "    <tr style=\"text-align: right;\">\n",
              "      <th></th>\n",
              "      <th>pkSeqID</th>\n",
              "      <th>stime</th>\n",
              "      <th>flgs</th>\n",
              "      <th>proto</th>\n",
              "      <th>saddr</th>\n",
              "      <th>sport</th>\n",
              "      <th>daddr</th>\n",
              "      <th>dport</th>\n",
              "      <th>pkts</th>\n",
              "      <th>bytes</th>\n",
              "      <th>...</th>\n",
              "      <th>srate</th>\n",
              "      <th>drate</th>\n",
              "      <th>attack</th>\n",
              "      <th>combined_DoS_HTTP</th>\n",
              "      <th>combined_DoS_TCP</th>\n",
              "      <th>combined_Normal_Normal</th>\n",
              "      <th>combined_Reconnaissance_OS_Fingerprint</th>\n",
              "      <th>combined_Reconnaissance_Service_Scan</th>\n",
              "      <th>combined_Theft_Data_Exfiltration</th>\n",
              "      <th>combined_Theft_Keylogging</th>\n",
              "    </tr>\n",
              "  </thead>\n",
              "  <tbody>\n",
              "    <tr>\n",
              "      <th>0</th>\n",
              "      <td>1</td>\n",
              "      <td>1.526344e+09</td>\n",
              "      <td>0</td>\n",
              "      <td>0</td>\n",
              "      <td>-5129129635686255861</td>\n",
              "      <td>NaN</td>\n",
              "      <td>-8013749477516327964</td>\n",
              "      <td>NaN</td>\n",
              "      <td>4</td>\n",
              "      <td>240</td>\n",
              "      <td>...</td>\n",
              "      <td>0.000836</td>\n",
              "      <td>0.000836</td>\n",
              "      <td>0</td>\n",
              "      <td>0.0</td>\n",
              "      <td>0.0</td>\n",
              "      <td>1.0</td>\n",
              "      <td>0.0</td>\n",
              "      <td>0.0</td>\n",
              "      <td>0.0</td>\n",
              "      <td>0.0</td>\n",
              "    </tr>\n",
              "    <tr>\n",
              "      <th>1</th>\n",
              "      <td>2</td>\n",
              "      <td>1.526344e+09</td>\n",
              "      <td>0</td>\n",
              "      <td>5</td>\n",
              "      <td>-6185723984693521753</td>\n",
              "      <td>139.0</td>\n",
              "      <td>-2415109182496690282</td>\n",
              "      <td>36390.0</td>\n",
              "      <td>10</td>\n",
              "      <td>680</td>\n",
              "      <td>...</td>\n",
              "      <td>0.002751</td>\n",
              "      <td>0.002751</td>\n",
              "      <td>0</td>\n",
              "      <td>0.0</td>\n",
              "      <td>0.0</td>\n",
              "      <td>1.0</td>\n",
              "      <td>0.0</td>\n",
              "      <td>0.0</td>\n",
              "      <td>0.0</td>\n",
              "      <td>0.0</td>\n",
              "    </tr>\n",
              "    <tr>\n",
              "      <th>2</th>\n",
              "      <td>3</td>\n",
              "      <td>1.526344e+09</td>\n",
              "      <td>0</td>\n",
              "      <td>6</td>\n",
              "      <td>-1869885841190239628</td>\n",
              "      <td>51838.0</td>\n",
              "      <td>7736881533495019271</td>\n",
              "      <td>123.0</td>\n",
              "      <td>2</td>\n",
              "      <td>180</td>\n",
              "      <td>...</td>\n",
              "      <td>0.000000</td>\n",
              "      <td>0.000000</td>\n",
              "      <td>0</td>\n",
              "      <td>0.0</td>\n",
              "      <td>0.0</td>\n",
              "      <td>1.0</td>\n",
              "      <td>0.0</td>\n",
              "      <td>0.0</td>\n",
              "      <td>0.0</td>\n",
              "      <td>0.0</td>\n",
              "    </tr>\n",
              "    <tr>\n",
              "      <th>3</th>\n",
              "      <td>4</td>\n",
              "      <td>1.526344e+09</td>\n",
              "      <td>0</td>\n",
              "      <td>0</td>\n",
              "      <td>-2415109182496690282</td>\n",
              "      <td>NaN</td>\n",
              "      <td>-6185723984693521753</td>\n",
              "      <td>NaN</td>\n",
              "      <td>10</td>\n",
              "      <td>510</td>\n",
              "      <td>...</td>\n",
              "      <td>0.002751</td>\n",
              "      <td>0.002751</td>\n",
              "      <td>0</td>\n",
              "      <td>0.0</td>\n",
              "      <td>0.0</td>\n",
              "      <td>1.0</td>\n",
              "      <td>0.0</td>\n",
              "      <td>0.0</td>\n",
              "      <td>0.0</td>\n",
              "      <td>0.0</td>\n",
              "    </tr>\n",
              "    <tr>\n",
              "      <th>4</th>\n",
              "      <td>5</td>\n",
              "      <td>1.526344e+09</td>\n",
              "      <td>0</td>\n",
              "      <td>6</td>\n",
              "      <td>-5248272586555793995</td>\n",
              "      <td>58999.0</td>\n",
              "      <td>-5129129635686255861</td>\n",
              "      <td>53.0</td>\n",
              "      <td>4</td>\n",
              "      <td>630</td>\n",
              "      <td>...</td>\n",
              "      <td>0.001755</td>\n",
              "      <td>0.001755</td>\n",
              "      <td>0</td>\n",
              "      <td>0.0</td>\n",
              "      <td>0.0</td>\n",
              "      <td>1.0</td>\n",
              "      <td>0.0</td>\n",
              "      <td>0.0</td>\n",
              "      <td>0.0</td>\n",
              "      <td>0.0</td>\n",
              "    </tr>\n",
              "  </tbody>\n",
              "</table>\n",
              "<p>5 rows × 40 columns</p>\n",
              "</div>\n",
              "    <div class=\"colab-df-buttons\">\n",
              "\n",
              "  <div class=\"colab-df-container\">\n",
              "    <button class=\"colab-df-convert\" onclick=\"convertToInteractive('df-0320ccfb-c53d-40dc-b4e4-42140ea02b15')\"\n",
              "            title=\"Convert this dataframe to an interactive table.\"\n",
              "            style=\"display:none;\">\n",
              "\n",
              "  <svg xmlns=\"http://www.w3.org/2000/svg\" height=\"24px\" viewBox=\"0 -960 960 960\">\n",
              "    <path d=\"M120-120v-720h720v720H120Zm60-500h600v-160H180v160Zm220 220h160v-160H400v160Zm0 220h160v-160H400v160ZM180-400h160v-160H180v160Zm440 0h160v-160H620v160ZM180-180h160v-160H180v160Zm440 0h160v-160H620v160Z\"/>\n",
              "  </svg>\n",
              "    </button>\n",
              "\n",
              "  <style>\n",
              "    .colab-df-container {\n",
              "      display:flex;\n",
              "      gap: 12px;\n",
              "    }\n",
              "\n",
              "    .colab-df-convert {\n",
              "      background-color: #E8F0FE;\n",
              "      border: none;\n",
              "      border-radius: 50%;\n",
              "      cursor: pointer;\n",
              "      display: none;\n",
              "      fill: #1967D2;\n",
              "      height: 32px;\n",
              "      padding: 0 0 0 0;\n",
              "      width: 32px;\n",
              "    }\n",
              "\n",
              "    .colab-df-convert:hover {\n",
              "      background-color: #E2EBFA;\n",
              "      box-shadow: 0px 1px 2px rgba(60, 64, 67, 0.3), 0px 1px 3px 1px rgba(60, 64, 67, 0.15);\n",
              "      fill: #174EA6;\n",
              "    }\n",
              "\n",
              "    .colab-df-buttons div {\n",
              "      margin-bottom: 4px;\n",
              "    }\n",
              "\n",
              "    [theme=dark] .colab-df-convert {\n",
              "      background-color: #3B4455;\n",
              "      fill: #D2E3FC;\n",
              "    }\n",
              "\n",
              "    [theme=dark] .colab-df-convert:hover {\n",
              "      background-color: #434B5C;\n",
              "      box-shadow: 0px 1px 3px 1px rgba(0, 0, 0, 0.15);\n",
              "      filter: drop-shadow(0px 1px 2px rgba(0, 0, 0, 0.3));\n",
              "      fill: #FFFFFF;\n",
              "    }\n",
              "  </style>\n",
              "\n",
              "    <script>\n",
              "      const buttonEl =\n",
              "        document.querySelector('#df-0320ccfb-c53d-40dc-b4e4-42140ea02b15 button.colab-df-convert');\n",
              "      buttonEl.style.display =\n",
              "        google.colab.kernel.accessAllowed ? 'block' : 'none';\n",
              "\n",
              "      async function convertToInteractive(key) {\n",
              "        const element = document.querySelector('#df-0320ccfb-c53d-40dc-b4e4-42140ea02b15');\n",
              "        const dataTable =\n",
              "          await google.colab.kernel.invokeFunction('convertToInteractive',\n",
              "                                                    [key], {});\n",
              "        if (!dataTable) return;\n",
              "\n",
              "        const docLinkHtml = 'Like what you see? Visit the ' +\n",
              "          '<a target=\"_blank\" href=https://colab.research.google.com/notebooks/data_table.ipynb>data table notebook</a>'\n",
              "          + ' to learn more about interactive tables.';\n",
              "        element.innerHTML = '';\n",
              "        dataTable['output_type'] = 'display_data';\n",
              "        await google.colab.output.renderOutput(dataTable, element);\n",
              "        const docLink = document.createElement('div');\n",
              "        docLink.innerHTML = docLinkHtml;\n",
              "        element.appendChild(docLink);\n",
              "      }\n",
              "    </script>\n",
              "  </div>\n",
              "\n",
              "\n",
              "<div id=\"df-6ed76fcc-8c13-4d5e-9ae3-0a3f5f6175ba\">\n",
              "  <button class=\"colab-df-quickchart\" onclick=\"quickchart('df-6ed76fcc-8c13-4d5e-9ae3-0a3f5f6175ba')\"\n",
              "            title=\"Suggest charts\"\n",
              "            style=\"display:none;\">\n",
              "\n",
              "<svg xmlns=\"http://www.w3.org/2000/svg\" height=\"24px\"viewBox=\"0 0 24 24\"\n",
              "     width=\"24px\">\n",
              "    <g>\n",
              "        <path d=\"M19 3H5c-1.1 0-2 .9-2 2v14c0 1.1.9 2 2 2h14c1.1 0 2-.9 2-2V5c0-1.1-.9-2-2-2zM9 17H7v-7h2v7zm4 0h-2V7h2v10zm4 0h-2v-4h2v4z\"/>\n",
              "    </g>\n",
              "</svg>\n",
              "  </button>\n",
              "\n",
              "<style>\n",
              "  .colab-df-quickchart {\n",
              "      --bg-color: #E8F0FE;\n",
              "      --fill-color: #1967D2;\n",
              "      --hover-bg-color: #E2EBFA;\n",
              "      --hover-fill-color: #174EA6;\n",
              "      --disabled-fill-color: #AAA;\n",
              "      --disabled-bg-color: #DDD;\n",
              "  }\n",
              "\n",
              "  [theme=dark] .colab-df-quickchart {\n",
              "      --bg-color: #3B4455;\n",
              "      --fill-color: #D2E3FC;\n",
              "      --hover-bg-color: #434B5C;\n",
              "      --hover-fill-color: #FFFFFF;\n",
              "      --disabled-bg-color: #3B4455;\n",
              "      --disabled-fill-color: #666;\n",
              "  }\n",
              "\n",
              "  .colab-df-quickchart {\n",
              "    background-color: var(--bg-color);\n",
              "    border: none;\n",
              "    border-radius: 50%;\n",
              "    cursor: pointer;\n",
              "    display: none;\n",
              "    fill: var(--fill-color);\n",
              "    height: 32px;\n",
              "    padding: 0;\n",
              "    width: 32px;\n",
              "  }\n",
              "\n",
              "  .colab-df-quickchart:hover {\n",
              "    background-color: var(--hover-bg-color);\n",
              "    box-shadow: 0 1px 2px rgba(60, 64, 67, 0.3), 0 1px 3px 1px rgba(60, 64, 67, 0.15);\n",
              "    fill: var(--button-hover-fill-color);\n",
              "  }\n",
              "\n",
              "  .colab-df-quickchart-complete:disabled,\n",
              "  .colab-df-quickchart-complete:disabled:hover {\n",
              "    background-color: var(--disabled-bg-color);\n",
              "    fill: var(--disabled-fill-color);\n",
              "    box-shadow: none;\n",
              "  }\n",
              "\n",
              "  .colab-df-spinner {\n",
              "    border: 2px solid var(--fill-color);\n",
              "    border-color: transparent;\n",
              "    border-bottom-color: var(--fill-color);\n",
              "    animation:\n",
              "      spin 1s steps(1) infinite;\n",
              "  }\n",
              "\n",
              "  @keyframes spin {\n",
              "    0% {\n",
              "      border-color: transparent;\n",
              "      border-bottom-color: var(--fill-color);\n",
              "      border-left-color: var(--fill-color);\n",
              "    }\n",
              "    20% {\n",
              "      border-color: transparent;\n",
              "      border-left-color: var(--fill-color);\n",
              "      border-top-color: var(--fill-color);\n",
              "    }\n",
              "    30% {\n",
              "      border-color: transparent;\n",
              "      border-left-color: var(--fill-color);\n",
              "      border-top-color: var(--fill-color);\n",
              "      border-right-color: var(--fill-color);\n",
              "    }\n",
              "    40% {\n",
              "      border-color: transparent;\n",
              "      border-right-color: var(--fill-color);\n",
              "      border-top-color: var(--fill-color);\n",
              "    }\n",
              "    60% {\n",
              "      border-color: transparent;\n",
              "      border-right-color: var(--fill-color);\n",
              "    }\n",
              "    80% {\n",
              "      border-color: transparent;\n",
              "      border-right-color: var(--fill-color);\n",
              "      border-bottom-color: var(--fill-color);\n",
              "    }\n",
              "    90% {\n",
              "      border-color: transparent;\n",
              "      border-bottom-color: var(--fill-color);\n",
              "    }\n",
              "  }\n",
              "</style>\n",
              "\n",
              "  <script>\n",
              "    async function quickchart(key) {\n",
              "      const quickchartButtonEl =\n",
              "        document.querySelector('#' + key + ' button');\n",
              "      quickchartButtonEl.disabled = true;  // To prevent multiple clicks.\n",
              "      quickchartButtonEl.classList.add('colab-df-spinner');\n",
              "      try {\n",
              "        const charts = await google.colab.kernel.invokeFunction(\n",
              "            'suggestCharts', [key], {});\n",
              "      } catch (error) {\n",
              "        console.error('Error during call to suggestCharts:', error);\n",
              "      }\n",
              "      quickchartButtonEl.classList.remove('colab-df-spinner');\n",
              "      quickchartButtonEl.classList.add('colab-df-quickchart-complete');\n",
              "    }\n",
              "    (() => {\n",
              "      let quickchartButtonEl =\n",
              "        document.querySelector('#df-6ed76fcc-8c13-4d5e-9ae3-0a3f5f6175ba button');\n",
              "      quickchartButtonEl.style.display =\n",
              "        google.colab.kernel.accessAllowed ? 'block' : 'none';\n",
              "    })();\n",
              "  </script>\n",
              "</div>\n",
              "\n",
              "    </div>\n",
              "  </div>\n"
            ],
            "application/vnd.google.colaboratory.intrinsic+json": {
              "type": "dataframe",
              "variable_name": "data"
            }
          },
          "metadata": {},
          "execution_count": 9
        }
      ],
      "source": [
        "data.head()"
      ]
    },
    {
      "cell_type": "code",
      "execution_count": null,
      "metadata": {
        "colab": {
          "base_uri": "https://localhost:8080/"
        },
        "id": "fsI5fjoxDX-Y",
        "outputId": "469f1791-64b3-4c58-addb-4178070dc6fe"
      },
      "outputs": [
        {
          "output_type": "stream",
          "name": "stdout",
          "text": [
            "Index(['pkSeqID', 'stime', 'flgs', 'proto', 'saddr', 'sport', 'daddr', 'dport',\n",
            "       'pkts', 'bytes', 'state', 'ltime', 'seq', 'dur', 'mean', 'stddev',\n",
            "       'smac', 'dmac', 'sum', 'min', 'max', 'soui', 'doui', 'sco', 'dco',\n",
            "       'spkts', 'dpkts', 'sbytes', 'dbytes', 'rate', 'srate', 'drate',\n",
            "       'attack', 'combined_DoS_HTTP', 'combined_DoS_TCP',\n",
            "       'combined_Normal_Normal', 'combined_Reconnaissance_OS_Fingerprint',\n",
            "       'combined_Reconnaissance_Service_Scan',\n",
            "       'combined_Theft_Data_Exfiltration', 'combined_Theft_Keylogging'],\n",
            "      dtype='object')\n"
          ]
        }
      ],
      "source": [
        "print(data.columns)"
      ]
    },
    {
      "cell_type": "code",
      "execution_count": null,
      "metadata": {
        "id": "H-dudstZDh5P"
      },
      "outputs": [],
      "source": [
        "# Split data into X (features) and y (target)\n",
        "X = data.loc[:, :'attack']  # Select all columns up to 'attack' column (inclusive)\n",
        "y = data.loc[:, 'attack':]   # Select all columns from 'attack' column onwards   # Both category and subcategory as target"
      ]
    },
    {
      "cell_type": "code",
      "execution_count": null,
      "metadata": {
        "id": "12nJwTswFH0y"
      },
      "outputs": [],
      "source": [
        "# Compute class weights based on inverse class frequency\n",
        "#We compute class weights based on the inverse class frequency of the 'category' column.\n",
        "from sklearn.utils.class_weight import compute_class_weight\n",
        "\n",
        "# Assuming 'y' is a DataFrame containing the multiple target columns\n",
        "# Concatenate all target columns\n",
        "y_concatenated = y['attack']  # Assuming 'attack' is one of the target columns\n",
        "for col in ['combined_DoS_HTTP', 'combined_DoS_TCP', 'combined_Normal_Normal',\n",
        "            'combined_Reconnaissance_OS_Fingerprint', 'combined_Reconnaissance_Service_Scan',\n",
        "            'combined_Theft_Data_Exfiltration', 'combined_Theft_Keylogging']:\n",
        "  y_concatenated = pd.concat([y_concatenated, y[col]], axis=1)"
      ]
    },
    {
      "cell_type": "code",
      "execution_count": null,
      "metadata": {
        "id": "l10KIOeQotlL"
      },
      "outputs": [],
      "source": [
        "# Compute class weights for each individual class\n",
        "class_weights = compute_class_weight('balanced', classes=np.unique(y_concatenated), y=np.ravel(y_concatenated))\n"
      ]
    },
    {
      "cell_type": "code",
      "execution_count": null,
      "metadata": {
        "colab": {
          "base_uri": "https://localhost:8080/"
        },
        "id": "wcwE7XR7oyHa",
        "outputId": "0c69479a-e8be-4459-ca6a-c58dd65a0227"
      },
      "outputs": [
        {
          "name": "stdout",
          "output_type": "stream",
          "text": [
            "[0.66650637 2.00144404]\n"
          ]
        }
      ],
      "source": [
        "print(class_weights)\n"
      ]
    },
    {
      "cell_type": "code",
      "execution_count": null,
      "metadata": {
        "id": "9gKCuPxspCpi"
      },
      "outputs": [],
      "source": [
        "#Class 0 has a weight of approximately 0.67, indicating that it is underrepresented compared to class 1.\n",
        "#Class 1 has a weight of approximately 2.00, indicating that it is overrepresented compared to class 0."
      ]
    },
    {
      "cell_type": "code",
      "execution_count": null,
      "metadata": {
        "id": "mOHY9SQnpiOd"
      },
      "outputs": [],
      "source": [
        "#One-hot encoding converts categorical variables into binary vectors,\n",
        "# where each class is represented by a binary indicator column.\n",
        "# If the original categorical variable had hierarchical or nested classes,\n",
        "# one-hot encoding could lead to fewer classes after the transformation."
      ]
    },
    {
      "cell_type": "code",
      "execution_count": null,
      "metadata": {
        "id": "GLhpn4gOqMh5"
      },
      "outputs": [],
      "source": [
        "# Impute NaN values with the mean\n",
        "from sklearn.impute import SimpleImputer\n",
        "imputer = SimpleImputer(strategy='mean')\n",
        "X_imputed = imputer.fit_transform(X)"
      ]
    },
    {
      "cell_type": "code",
      "source": [],
      "metadata": {
        "id": "8EduXhwLy0hW"
      },
      "execution_count": null,
      "outputs": []
    },
    {
      "cell_type": "code",
      "execution_count": null,
      "metadata": {
        "id": "_m-3KFi4FNt4"
      },
      "outputs": [],
      "source": [
        "# Normalize features\n",
        "from sklearn.preprocessing import MinMaxScaler\n",
        "\n",
        "# Scale the data using MinMaxScaler\n",
        "scaler = MinMaxScaler()\n",
        "X_scaled = scaler.fit_transform(X_imputed)"
      ]
    },
    {
      "cell_type": "code",
      "execution_count": null,
      "metadata": {
        "id": "vGNVVXBTDv_K"
      },
      "outputs": [],
      "source": [
        "# Split data into train and test sets\n",
        "from sklearn.model_selection import train_test_split\n",
        "X_train, X_test, y_train, y_test = train_test_split(X_scaled, y, test_size=0.2, random_state=42)"
      ]
    },
    {
      "cell_type": "code",
      "execution_count": null,
      "metadata": {
        "id": "eTFqX2YnFWO8"
      },
      "outputs": [],
      "source": [
        "#We build a multi-output neural network model using Keras Sequential API,\n",
        "#where the output layer has sigmoid activation for multi-label classification."
      ]
    },
    {
      "cell_type": "code",
      "execution_count": null,
      "metadata": {
        "id": "c596VTKeFXAU"
      },
      "outputs": [],
      "source": [
        "# Build multi-output neural network model\n",
        "from tensorflow.keras.models import Sequential\n",
        "from tensorflow.keras.layers import Dense\n",
        "\n",
        "model = Sequential([\n",
        "    Dense( activation='relu', input_shape=(X_train.shape[1],)),\n",
        "    Dense(128, activation='relu'),  # Additional hidden layer\n",
        "    Dense(64, activation='relu'),   # Additional hidden layer\n",
        "    Dense(32, activation='relu'),   # Additional hidden layer\n",
        "    Dense(y_train.shape[1], activation='sigmoid')  # Output layer with sigmoid activation for multi-label classification\n",
        "])"
      ]
    },
    {
      "cell_type": "code",
      "execution_count": null,
      "metadata": {
        "id": "ALV3x-A5Fqny"
      },
      "outputs": [],
      "source": [
        "#Output Layer: The output layer consists of multiple nodes, each representing a different label or category.\n",
        "#In this case, there are two output nodes corresponding to 'category' and 'subcategory'."
      ]
    },
    {
      "cell_type": "code",
      "execution_count": null,
      "metadata": {
        "id": "WXVjRpQ0F1k9"
      },
      "outputs": [],
      "source": [
        "#The activation functions used in the hidden layers (typically ReLU) introduce non-linearity to the model,\n",
        "#enabling it to learn complex patterns in the data. The output layer uses the sigmoid activation function,\n",
        "#which is suitable for multi-label classification tasks as it produces probabilities for each label independentl"
      ]
    },
    {
      "cell_type": "code",
      "execution_count": null,
      "metadata": {
        "id": "PdA8lolCFbvC"
      },
      "outputs": [],
      "source": [
        "# Compile the model with class weights\n",
        "model.compile(optimizer='adam', loss='binary_crossentropy', metrics=['accuracy'], loss_weights=class_weights)"
      ]
    },
    {
      "cell_type": "code",
      "execution_count": null,
      "metadata": {
        "colab": {
          "background_save": true,
          "base_uri": "https://localhost:8080/"
        },
        "id": "IZsxiuWyFfJY",
        "outputId": "25f445d9-c6c2-4002-f881-649d65dd0041"
      },
      "outputs": [
        {
          "name": "stdout",
          "output_type": "stream",
          "text": [
            "Epoch 1/10\n",
            "125000/125000 [==============================] - 313s 2ms/step - loss: 7.3794e-04 - accuracy: 0.9784 - val_loss: 8.0219e-05 - val_accuracy: 1.0000\n",
            "Epoch 2/10\n",
            "125000/125000 [==============================] - 315s 3ms/step - loss: 2.4804e-04 - accuracy: 1.0000 - val_loss: 1.0131e-04 - val_accuracy: 1.0000\n",
            "Epoch 3/10\n",
            "125000/125000 [==============================] - 338s 3ms/step - loss: 2.5103e-04 - accuracy: 1.0000 - val_loss: 1.1697e-04 - val_accuracy: 1.0000\n",
            "Epoch 4/10\n",
            "125000/125000 [==============================] - 341s 3ms/step - loss: 2.1243e-04 - accuracy: 1.0000 - val_loss: 1.2658e-04 - val_accuracy: 1.0000\n",
            "Epoch 5/10\n",
            "125000/125000 [==============================] - 348s 3ms/step - loss: 2.2124e-04 - accuracy: 0.9991 - val_loss: 5.2256e-05 - val_accuracy: 0.9934\n",
            "Epoch 6/10\n",
            "125000/125000 [==============================] - 308s 2ms/step - loss: 2.0895e-04 - accuracy: 0.9872 - val_loss: 4.2863e-04 - val_accuracy: 0.9310\n",
            "Epoch 7/10\n",
            "125000/125000 [==============================] - 346s 3ms/step - loss: 1.9050e-04 - accuracy: 0.9798 - val_loss: 5.6313e-05 - val_accuracy: 1.0000\n",
            "Epoch 8/10\n",
            "125000/125000 [==============================] - 304s 2ms/step - loss: 1.6542e-04 - accuracy: 0.9989 - val_loss: 8.7194e-05 - val_accuracy: 1.0000\n",
            "Epoch 9/10\n",
            "125000/125000 [==============================] - 304s 2ms/step - loss: 2.0575e-04 - accuracy: 0.9924 - val_loss: 7.2040e-05 - val_accuracy: 0.9933\n",
            "Epoch 10/10\n",
            "125000/125000 [==============================] - 339s 3ms/step - loss: 1.7609e-04 - accuracy: 0.9977 - val_loss: 3.5705e-05 - val_accuracy: 1.0000\n"
          ]
        },
        {
          "data": {
            "text/plain": [
              "<keras.src.callbacks.History at 0x79360e2bfee0>"
            ]
          },
          "execution_count": 15,
          "metadata": {},
          "output_type": "execute_result"
        }
      ],
      "source": [
        "# Train the model\n",
        "model.fit(X_train, y_train, epochs=10, batch_size=32, validation_data=(X_test, y_test))"
      ]
    },
    {
      "cell_type": "code",
      "execution_count": null,
      "metadata": {
        "colab": {
          "background_save": true
        },
        "id": "JsVtBw4J4VoY",
        "outputId": "4476e0b7-2aae-4bab-c77f-3903f87a8d3a"
      },
      "outputs": [
        {
          "name": "stdout",
          "output_type": "stream",
          "text": [
            "31250/31250 [==============================] - 44s 1ms/step\n"
          ]
        }
      ],
      "source": [
        "y_pred = model.predict(X_test)\n"
      ]
    },
    {
      "cell_type": "code",
      "execution_count": null,
      "metadata": {
        "colab": {
          "background_save": true
        },
        "id": "2brViui947xl"
      },
      "outputs": [],
      "source": [
        "threshold = 0.5\n",
        "y_pred_binary = (y_pred > threshold).astype(int)\n"
      ]
    },
    {
      "cell_type": "code",
      "execution_count": null,
      "metadata": {
        "id": "u9TNM5R80SGF"
      },
      "outputs": [],
      "source": [
        "#evaluate the metrics using the weighted versions of the metrics.\n",
        "# Weighted metrics take into account the class weights when computing the overall metric,\n",
        "#which is especially important when dealing with class imbalance."
      ]
    },
    {
      "cell_type": "code",
      "execution_count": null,
      "metadata": {
        "colab": {
          "background_save": true
        },
        "id": "HC3XV8Wt0ZiA",
        "outputId": "bb9f40b7-84c9-4125-b033-8124e4e1e22b"
      },
      "outputs": [
        {
          "name": "stdout",
          "output_type": "stream",
          "text": [
            "Accuracy: 0.99997\n",
            "Precision: 0.9999907026299295\n",
            "Recall: 0.9999854893274003\n",
            "F1 Score: 0.9999874245059415\n"
          ]
        }
      ],
      "source": [
        "from sklearn.metrics import accuracy_score, precision_score, recall_score, f1_score\n",
        "\n",
        "# Assuming y_true and y_pred are your true and predicted labels respectively\n",
        "# Compute metrics for each label separately\n",
        "accuracy = accuracy_score(y_test, y_pred_binary)\n",
        "precision = precision_score(y_test, y_pred_binary, average='weighted')\n",
        "recall = recall_score(y_test, y_pred_binary, average='weighted')\n",
        "f1 = f1_score(y_test, y_pred_binary, average='weighted')\n",
        "\n",
        "print(\"Accuracy:\", accuracy)\n",
        "print(\"Precision:\", precision)\n",
        "print(\"Recall:\", recall)\n",
        "print(\"F1 Score:\", f1)\n"
      ]
    },
    {
      "cell_type": "code",
      "execution_count": null,
      "metadata": {
        "colab": {
          "background_save": true
        },
        "id": "9YjJSXtHyO0d",
        "outputId": "ae9d1c98-bc11-4f77-94b2-0e7de8418281"
      },
      "outputs": [
        {
          "name": "stdout",
          "output_type": "stream",
          "text": [
            "              precision    recall  f1-score   support\n",
            "\n",
            "           0       1.00      1.00      1.00    998529\n",
            "           1       1.00      1.00      1.00      5828\n",
            "           2       1.00      1.00      1.00    628024\n",
            "           3       1.00      1.00      1.00      1471\n",
            "           4       1.00      1.00      1.00     71660\n",
            "           5       1.00      1.00      1.00    292734\n",
            "           6       0.34      0.71      0.46        17\n",
            "           7       0.98      0.91      0.94       266\n",
            "\n",
            "   micro avg       1.00      1.00      1.00   1998529\n",
            "   macro avg       0.91      0.95      0.93   1998529\n",
            "weighted avg       1.00      1.00      1.00   1998529\n",
            " samples avg       1.00      1.00      1.00   1998529\n",
            "\n"
          ]
        }
      ],
      "source": [
        "from sklearn.metrics import classification_report\n",
        "print(classification_report(y_test, y_pred_binary))"
      ]
    },
    {
      "cell_type": "code",
      "execution_count": null,
      "metadata": {
        "id": "rueVGF7K074b"
      },
      "outputs": [],
      "source": [
        "import matplotlib.pyplot as plt\n",
        "\n",
        "# Assuming class_weights is a list or array containing the class weights\n",
        "\n",
        "# Plot class weights\n",
        "plt.bar(range(len(class_weights)), class_weights)\n",
        "plt.xlabel('Class')\n",
        "plt.ylabel('Weight')\n",
        "plt.title('Class Weights')\n",
        "plt.xticks(range(len(class_weights)))  # Set x-axis ticks to class indices\n",
        "plt.show()\n"
      ]
    },
    {
      "cell_type": "code",
      "execution_count": null,
      "metadata": {
        "id": "U5zn8eHlAaTQ"
      },
      "outputs": [],
      "source": [
        "#try to compute classification report\n",
        "from sklearn.metrics import precision_score, classification_report\n",
        "# Calculate classification report\n",
        "report = classification_report(y_test, y_pred_binary)\n",
        "print(\"Classification Report:\")\n",
        "print(report)\n"
      ]
    },
    {
      "cell_type": "code",
      "execution_count": null,
      "metadata": {
        "id": "5Fl-vYOp1hhi"
      },
      "outputs": [],
      "source": [
        " #Since ROC curve and ROC AUC are typically used for binary classification, you'll need to compute them for each class\n",
        " #separately in a one-vs-rest manner."
      ]
    },
    {
      "cell_type": "code",
      "execution_count": null,
      "metadata": {
        "colab": {
          "base_uri": "https://localhost:8080/",
          "height": 426
        },
        "id": "b1sNbv8T1Ust",
        "outputId": "c15ff379-aba9-4b90-bab5-0577383afc75"
      },
      "outputs": [
        {
          "ename": "InvalidIndexError",
          "evalue": "(slice(None, None, None), 0)",
          "output_type": "error",
          "traceback": [
            "\u001b[0;31m---------------------------------------------------------------------------\u001b[0m",
            "\u001b[0;31mTypeError\u001b[0m                                 Traceback (most recent call last)",
            "\u001b[0;32m/usr/local/lib/python3.10/dist-packages/pandas/core/indexes/base.py\u001b[0m in \u001b[0;36mget_loc\u001b[0;34m(self, key)\u001b[0m\n\u001b[1;32m   3652\u001b[0m         \u001b[0;32mtry\u001b[0m\u001b[0;34m:\u001b[0m\u001b[0;34m\u001b[0m\u001b[0;34m\u001b[0m\u001b[0m\n\u001b[0;32m-> 3653\u001b[0;31m             \u001b[0;32mreturn\u001b[0m \u001b[0mself\u001b[0m\u001b[0;34m.\u001b[0m\u001b[0m_engine\u001b[0m\u001b[0;34m.\u001b[0m\u001b[0mget_loc\u001b[0m\u001b[0;34m(\u001b[0m\u001b[0mcasted_key\u001b[0m\u001b[0;34m)\u001b[0m\u001b[0;34m\u001b[0m\u001b[0;34m\u001b[0m\u001b[0m\n\u001b[0m\u001b[1;32m   3654\u001b[0m         \u001b[0;32mexcept\u001b[0m \u001b[0mKeyError\u001b[0m \u001b[0;32mas\u001b[0m \u001b[0merr\u001b[0m\u001b[0;34m:\u001b[0m\u001b[0;34m\u001b[0m\u001b[0;34m\u001b[0m\u001b[0m\n",
            "\u001b[0;32m/usr/local/lib/python3.10/dist-packages/pandas/_libs/index.pyx\u001b[0m in \u001b[0;36mpandas._libs.index.IndexEngine.get_loc\u001b[0;34m()\u001b[0m\n",
            "\u001b[0;32m/usr/local/lib/python3.10/dist-packages/pandas/_libs/index.pyx\u001b[0m in \u001b[0;36mpandas._libs.index.IndexEngine.get_loc\u001b[0;34m()\u001b[0m\n",
            "\u001b[0;31mTypeError\u001b[0m: '(slice(None, None, None), 0)' is an invalid key",
            "\nDuring handling of the above exception, another exception occurred:\n",
            "\u001b[0;31mInvalidIndexError\u001b[0m                         Traceback (most recent call last)",
            "\u001b[0;32m<ipython-input-25-4f4286652687>\u001b[0m in \u001b[0;36m<cell line: 15>\u001b[0;34m()\u001b[0m\n\u001b[1;32m     14\u001b[0m \u001b[0;34m\u001b[0m\u001b[0m\n\u001b[1;32m     15\u001b[0m \u001b[0;32mfor\u001b[0m \u001b[0mi\u001b[0m \u001b[0;32min\u001b[0m \u001b[0mrange\u001b[0m\u001b[0;34m(\u001b[0m\u001b[0my_test\u001b[0m\u001b[0;34m.\u001b[0m\u001b[0mshape\u001b[0m\u001b[0;34m[\u001b[0m\u001b[0;36m1\u001b[0m\u001b[0;34m]\u001b[0m\u001b[0;34m)\u001b[0m\u001b[0;34m:\u001b[0m  \u001b[0;31m# Iterate over each class\u001b[0m\u001b[0;34m\u001b[0m\u001b[0;34m\u001b[0m\u001b[0m\n\u001b[0;32m---> 16\u001b[0;31m     \u001b[0mfpr\u001b[0m\u001b[0;34m[\u001b[0m\u001b[0mi\u001b[0m\u001b[0;34m]\u001b[0m\u001b[0;34m,\u001b[0m \u001b[0mtpr\u001b[0m\u001b[0;34m[\u001b[0m\u001b[0mi\u001b[0m\u001b[0;34m]\u001b[0m\u001b[0;34m,\u001b[0m \u001b[0m_\u001b[0m \u001b[0;34m=\u001b[0m \u001b[0mroc_curve\u001b[0m\u001b[0;34m(\u001b[0m\u001b[0my_test\u001b[0m\u001b[0;34m[\u001b[0m\u001b[0;34m:\u001b[0m\u001b[0;34m,\u001b[0m \u001b[0mi\u001b[0m\u001b[0;34m]\u001b[0m\u001b[0;34m,\u001b[0m \u001b[0my_pred\u001b[0m\u001b[0;34m[\u001b[0m\u001b[0;34m:\u001b[0m\u001b[0;34m,\u001b[0m \u001b[0mi\u001b[0m\u001b[0;34m]\u001b[0m\u001b[0;34m)\u001b[0m\u001b[0;34m\u001b[0m\u001b[0;34m\u001b[0m\u001b[0m\n\u001b[0m\u001b[1;32m     17\u001b[0m     \u001b[0mroc_auc\u001b[0m\u001b[0;34m[\u001b[0m\u001b[0mi\u001b[0m\u001b[0;34m]\u001b[0m \u001b[0;34m=\u001b[0m \u001b[0mroc_auc_score\u001b[0m\u001b[0;34m(\u001b[0m\u001b[0my_test\u001b[0m\u001b[0;34m[\u001b[0m\u001b[0;34m:\u001b[0m\u001b[0;34m,\u001b[0m \u001b[0mi\u001b[0m\u001b[0;34m]\u001b[0m\u001b[0;34m,\u001b[0m \u001b[0my_pred\u001b[0m\u001b[0;34m[\u001b[0m\u001b[0;34m:\u001b[0m\u001b[0;34m,\u001b[0m \u001b[0mi\u001b[0m\u001b[0;34m]\u001b[0m\u001b[0;34m)\u001b[0m\u001b[0;34m\u001b[0m\u001b[0;34m\u001b[0m\u001b[0m\n\u001b[1;32m     18\u001b[0m \u001b[0;34m\u001b[0m\u001b[0m\n",
            "\u001b[0;32m/usr/local/lib/python3.10/dist-packages/pandas/core/frame.py\u001b[0m in \u001b[0;36m__getitem__\u001b[0;34m(self, key)\u001b[0m\n\u001b[1;32m   3759\u001b[0m             \u001b[0;32mif\u001b[0m \u001b[0mself\u001b[0m\u001b[0;34m.\u001b[0m\u001b[0mcolumns\u001b[0m\u001b[0;34m.\u001b[0m\u001b[0mnlevels\u001b[0m \u001b[0;34m>\u001b[0m \u001b[0;36m1\u001b[0m\u001b[0;34m:\u001b[0m\u001b[0;34m\u001b[0m\u001b[0;34m\u001b[0m\u001b[0m\n\u001b[1;32m   3760\u001b[0m                 \u001b[0;32mreturn\u001b[0m \u001b[0mself\u001b[0m\u001b[0;34m.\u001b[0m\u001b[0m_getitem_multilevel\u001b[0m\u001b[0;34m(\u001b[0m\u001b[0mkey\u001b[0m\u001b[0;34m)\u001b[0m\u001b[0;34m\u001b[0m\u001b[0;34m\u001b[0m\u001b[0m\n\u001b[0;32m-> 3761\u001b[0;31m             \u001b[0mindexer\u001b[0m \u001b[0;34m=\u001b[0m \u001b[0mself\u001b[0m\u001b[0;34m.\u001b[0m\u001b[0mcolumns\u001b[0m\u001b[0;34m.\u001b[0m\u001b[0mget_loc\u001b[0m\u001b[0;34m(\u001b[0m\u001b[0mkey\u001b[0m\u001b[0;34m)\u001b[0m\u001b[0;34m\u001b[0m\u001b[0;34m\u001b[0m\u001b[0m\n\u001b[0m\u001b[1;32m   3762\u001b[0m             \u001b[0;32mif\u001b[0m \u001b[0mis_integer\u001b[0m\u001b[0;34m(\u001b[0m\u001b[0mindexer\u001b[0m\u001b[0;34m)\u001b[0m\u001b[0;34m:\u001b[0m\u001b[0;34m\u001b[0m\u001b[0;34m\u001b[0m\u001b[0m\n\u001b[1;32m   3763\u001b[0m                 \u001b[0mindexer\u001b[0m \u001b[0;34m=\u001b[0m \u001b[0;34m[\u001b[0m\u001b[0mindexer\u001b[0m\u001b[0;34m]\u001b[0m\u001b[0;34m\u001b[0m\u001b[0;34m\u001b[0m\u001b[0m\n",
            "\u001b[0;32m/usr/local/lib/python3.10/dist-packages/pandas/core/indexes/base.py\u001b[0m in \u001b[0;36mget_loc\u001b[0;34m(self, key)\u001b[0m\n\u001b[1;32m   3658\u001b[0m             \u001b[0;31m#  InvalidIndexError. Otherwise we fall through and re-raise\u001b[0m\u001b[0;34m\u001b[0m\u001b[0;34m\u001b[0m\u001b[0m\n\u001b[1;32m   3659\u001b[0m             \u001b[0;31m#  the TypeError.\u001b[0m\u001b[0;34m\u001b[0m\u001b[0;34m\u001b[0m\u001b[0m\n\u001b[0;32m-> 3660\u001b[0;31m             \u001b[0mself\u001b[0m\u001b[0;34m.\u001b[0m\u001b[0m_check_indexing_error\u001b[0m\u001b[0;34m(\u001b[0m\u001b[0mkey\u001b[0m\u001b[0;34m)\u001b[0m\u001b[0;34m\u001b[0m\u001b[0;34m\u001b[0m\u001b[0m\n\u001b[0m\u001b[1;32m   3661\u001b[0m             \u001b[0;32mraise\u001b[0m\u001b[0;34m\u001b[0m\u001b[0;34m\u001b[0m\u001b[0m\n\u001b[1;32m   3662\u001b[0m \u001b[0;34m\u001b[0m\u001b[0m\n",
            "\u001b[0;32m/usr/local/lib/python3.10/dist-packages/pandas/core/indexes/base.py\u001b[0m in \u001b[0;36m_check_indexing_error\u001b[0;34m(self, key)\u001b[0m\n\u001b[1;32m   5735\u001b[0m             \u001b[0;31m# if key is not a scalar, directly raise an error (the code below\u001b[0m\u001b[0;34m\u001b[0m\u001b[0;34m\u001b[0m\u001b[0m\n\u001b[1;32m   5736\u001b[0m             \u001b[0;31m# would convert to numpy arrays and raise later any way) - GH29926\u001b[0m\u001b[0;34m\u001b[0m\u001b[0;34m\u001b[0m\u001b[0m\n\u001b[0;32m-> 5737\u001b[0;31m             \u001b[0;32mraise\u001b[0m \u001b[0mInvalidIndexError\u001b[0m\u001b[0;34m(\u001b[0m\u001b[0mkey\u001b[0m\u001b[0;34m)\u001b[0m\u001b[0;34m\u001b[0m\u001b[0;34m\u001b[0m\u001b[0m\n\u001b[0m\u001b[1;32m   5738\u001b[0m \u001b[0;34m\u001b[0m\u001b[0m\n\u001b[1;32m   5739\u001b[0m     \u001b[0;34m@\u001b[0m\u001b[0mcache_readonly\u001b[0m\u001b[0;34m\u001b[0m\u001b[0;34m\u001b[0m\u001b[0m\n",
            "\u001b[0;31mInvalidIndexError\u001b[0m: (slice(None, None, None), 0)"
          ]
        }
      ],
      "source": [
        "from sklearn.metrics import roc_curve, roc_auc_score\n",
        "import matplotlib.pyplot as plt\n",
        "\n",
        "# Assuming y_true and y_score are your true labels and predicted probabilities respectively\n",
        "# Assuming y_true and y_score are numpy arrays\n",
        "\n",
        "# Compute predicted probabilities on the test set\n",
        "#y_score = model.predict(X_test)\n",
        "\n",
        "# Compute ROC curve and ROC AUC score for each class\n",
        "fpr = dict()\n",
        "tpr = dict()\n",
        "roc_auc = dict()\n",
        "\n",
        "for i in range(y_test.shape[1]):  # Iterate over each class\n",
        "    fpr[i], tpr[i], _ = roc_curve(y_test[:, i], y_pred[:, i])\n",
        "    roc_auc[i] = roc_auc_score(y_test[:, i], y_pred[:, i])\n",
        "\n",
        "# Plot ROC curve for each class\n",
        "plt.figure(figsize=(8, 6))\n",
        "for i in range(y_test.shape[1]):\n",
        "    plt.plot(fpr[i], tpr[i], label=f'Class {i} (AUC = {roc_auc[i]:.2f})')\n",
        "\n",
        "plt.plot([0, 1], [0, 1], 'k--', label='Random Guess')\n",
        "plt.xlabel('False Positive Rate')\n",
        "plt.ylabel('True Positive Rate')\n",
        "plt.title('ROC Curve')\n",
        "plt.legend()\n",
        "plt.show()\n"
      ]
    },
    {
      "cell_type": "code",
      "execution_count": null,
      "metadata": {
        "id": "TC7_ag6V0oRU"
      },
      "outputs": [],
      "source": [
        "#hypermeter tunning:\n",
        "# increase the number of hidden layers"
      ]
    },
    {
      "cell_type": "code",
      "execution_count": null,
      "metadata": {
        "id": "zgYMnoDx2LvZ"
      },
      "outputs": [],
      "source": [
        "#However, if you're interested in understanding the impact of class weights on model performance,\n",
        "#you can compare the ROC curve with and without class weights to observe any differences.\n",
        "# This comparison can provide insights into how class weights affect the model's ability to\n",
        "# discriminate between positive and negative classes.\n",
        "\n",
        "\n",
        "\n",
        "\n",
        "\n"
      ]
    }
  ],
  "metadata": {
    "colab": {
      "provenance": [],
      "authorship_tag": "ABX9TyORIfayfpM3cnx4XzmU1Frg",
      "include_colab_link": true
    },
    "kernelspec": {
      "display_name": "Python 3",
      "name": "python3"
    },
    "language_info": {
      "name": "python"
    }
  },
  "nbformat": 4,
  "nbformat_minor": 0
}